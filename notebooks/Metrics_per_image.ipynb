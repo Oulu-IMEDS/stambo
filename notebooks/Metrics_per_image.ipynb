{
 "cells": [
  {
   "cell_type": "markdown",
   "id": "c5fd35b8-6808-477e-9618-926926e3d6ec",
   "metadata": {},
   "source": [
    "# Comparing two samples using `stambo`\n",
    "\n",
    "There are many cases, when we develop models other than classification or regression, and we want to compute scores per datapoint, and then find their mean. We may often want to compare just two samples of measurements, and `stambo` allows to do this easily too.\n",
    "\n",
    "This example shows how to conduct a simple two-sample test. The example is synthetic, and we will just simply generate two Gaussian samples, and assess whether the mean of the second sample is greater than the mean of the first sample."
   ]
  },
  {
   "cell_type": "markdown",
   "id": "ff6e13ca-dd76-44cd-9085-674af7927c34",
   "metadata": {},
   "source": [
    "## Importing the libraries"
   ]
  },
  {
   "cell_type": "code",
   "execution_count": 1,
   "id": "f4da8f85-d04c-4232-b59d-fcb07025a9e7",
   "metadata": {},
   "outputs": [],
   "source": [
    "import numpy as np\n",
    "import stambo\n",
    "\n",
    "SEED=2024"
   ]
  },
  {
   "cell_type": "markdown",
   "id": "ccdab62b-1320-4e4e-8877-97077b537ad6",
   "metadata": {},
   "source": [
    "## Data generation"
   ]
  },
  {
   "cell_type": "code",
   "execution_count": 2,
   "id": "054ccde1-e5fd-415a-94c6-f537ad8fba10",
   "metadata": {},
   "outputs": [],
   "source": [
    "np.random.seed(SEED)\n",
    "n_samples = 100\n",
    "sample_1 = np.random.randn(n_samples)+0.5\n",
    "sample_2 = np.random.randn(n_samples)+0.7"
   ]
  },
  {
   "cell_type": "markdown",
   "id": "5d4b527f-6765-4fb9-a208-a478751069b8",
   "metadata": {},
   "source": [
    "## Sample comparison\n",
    "\n",
    "Note that when it comes to a two-sample test, `stambo` does not require the statistic of choice to be a machine learning metric that is a subclass of `stambo.metrics.Metric`."
   ]
  },
  {
   "cell_type": "code",
   "execution_count": 3,
   "id": "d29ac608-a618-4cfb-8547-509854ee4100",
   "metadata": {},
   "outputs": [
    {
     "name": "stderr",
     "output_type": "stream",
     "text": [
      "Bootstrapping: 100%|██████████████████████████████████████████████████████████████████████████████████████████████████████████████████████████████| 10000/10000 [00:00<00:00, 82516.31it/s]\n"
     ]
    }
   ],
   "source": [
    "res = stambo.two_sample_test(sample_1, sample_2, statistics={\"Mean\": lambda x: x.mean()})"
   ]
  },
  {
   "cell_type": "markdown",
   "id": "cd22a7e2-47f3-4331-a881-9851325ae1f2",
   "metadata": {},
   "source": [
    "## LaTeX report"
   ]
  },
  {
   "cell_type": "code",
   "execution_count": 4,
   "id": "fdb0a272-f9fb-4b29-96d1-e28fb91d7103",
   "metadata": {},
   "outputs": [
    {
     "name": "stdout",
     "output_type": "stream",
     "text": [
      "% \\usepackage{booktabs} <-- do not for get to have this imported. \n",
      "\\begin{tabular}{ll} \\\\ \n",
      "\\toprule \n",
      "\\textbf{Model} & \\textbf{Mean} \\\\ \n",
      "\\midrule \n",
      "Sample 1 & $0.53$ [$0.34$-$0.73$] \\\\ \n",
      "Sample 2 & $0.78$ [$0.58$-$0.99$] \\\\ \n",
      "\\midrule\n",
      "$p$-value & $0.02$ \\\\ \n",
      "\\bottomrule\n",
      "\\end{tabular}\n"
     ]
    }
   ],
   "source": [
    "print(stambo.to_latex(res, m1_name=\"Sample 1\", m2_name=\"Sample 2\"))"
   ]
  }
 ],
 "metadata": {
  "kernelspec": {
   "display_name": "Python 3 (ipykernel)",
   "language": "python",
   "name": "python3"
  },
  "language_info": {
   "codemirror_mode": {
    "name": "ipython",
    "version": 3
   },
   "file_extension": ".py",
   "mimetype": "text/x-python",
   "name": "python",
   "nbconvert_exporter": "python",
   "pygments_lexer": "ipython3",
   "version": "3.9.10"
  }
 },
 "nbformat": 4,
 "nbformat_minor": 5
}
